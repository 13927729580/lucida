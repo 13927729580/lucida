{
 "cells": [
  {
   "cell_type": "markdown",
   "metadata": {
    "collapsed": true,
    "slideshow": {
     "slide_type": "slide"
    }
   },
   "source": [
    "# Lucida Installation Instructions\n",
    "## November 28, 2016"
   ]
  },
  {
   "cell_type": "markdown",
   "metadata": {
    "slideshow": {
     "slide_type": "slide"
    }
   },
   "source": [
    "### Overview\n",
    "\n",
    "In this tutorial, you will deploy **Lucida** on your Mac. \n",
    "\n",
    "As bonus, you will learn:\n",
    "\n",
    "1. how to set up a **Ubuntu virtual machine**\n",
    "\n",
    "2. how to execute some **basic Linux commands**\n",
    "\n",
    "3. and how to use **Docker and Kubernetes**."
   ]
  },
  {
   "cell_type": "markdown",
   "metadata": {
    "slideshow": {
     "slide_type": "slide"
    }
   },
   "source": [
    "### Prerequisite: Mac OS X"
   ]
  },
  {
   "cell_type": "markdown",
   "metadata": {
    "slideshow": {
     "slide_type": "slide"
    }
   },
   "source": [
    "### Steps\n",
    "\n",
    "Please follow the steps below carefully."
   ]
  },
  {
   "cell_type": "markdown",
   "metadata": {
    "slideshow": {
     "slide_type": "slide"
    }
   },
   "source": [
    "### 1\n",
    "Download the Ubuntu 14.04 iso image from [`http://releases.ubuntu.com/14.04/`](http://releases.ubuntu.com/14.04/)\n",
    "![](img/1.jpg)"
   ]
  },
  {
   "cell_type": "markdown",
   "metadata": {
    "slideshow": {
     "slide_type": "slide"
    }
   },
   "source": [
    "### 2\n",
    "Install Parallel Desktop 11 for Mac from [`http://www.parallels.com/products/desktop/download/`](http://www.parallels.com/products/desktop/download/)  and open it\n",
    "\n",
    "![](img/2.jpg)"
   ]
  },
  {
   "cell_type": "markdown",
   "metadata": {
    "slideshow": {
     "slide_type": "slide"
    }
   },
   "source": [
    "### 3\n",
    "Click `+` to create a new Ubuntu 14.04 virtual machine\n",
    "![](img/3.jpg)"
   ]
  },
  {
   "cell_type": "markdown",
   "metadata": {
    "slideshow": {
     "slide_type": "slide"
    }
   },
   "source": [
    "### 4\n",
    "Click the middle button\n",
    "![](img/4.jpg)"
   ]
  },
  {
   "cell_type": "markdown",
   "metadata": {
    "slideshow": {
     "slide_type": "slide"
    }
   },
   "source": [
    "### 5\n",
    "Locate the Ubuntu 14.04 iso image, then click `Continue`\n",
    "![](img/5.jpg)"
   ]
  },
  {
   "cell_type": "markdown",
   "metadata": {
    "slideshow": {
     "slide_type": "slide"
    }
   },
   "source": [
    "### 6\n",
    "Set password, click `Continue`, name it to `Lucida`, check the box `Custom Settings before installation`, then click `Continue`\n",
    "![](img/6.jpg)"
   ]
  },
  {
   "cell_type": "markdown",
   "metadata": {
    "slideshow": {
     "slide_type": "slide"
    }
   },
   "source": [
    "### 7\n",
    "Locate `Hardware`, click the lock button to make changes, and then set memory to 8192 MB\n",
    "![](img/7.jpg)"
   ]
  },
  {
   "cell_type": "markdown",
   "metadata": {
    "slideshow": {
     "slide_type": "slide"
    }
   },
   "source": [
    "### 8\n",
    "Close the window, click `Continue`, and wait until Ubuntu 14.04 is set up\n",
    "![](img/8.jpg)"
   ]
  },
  {
   "cell_type": "markdown",
   "metadata": {
    "slideshow": {
     "slide_type": "slide"
    }
   },
   "source": [
    "### 9\n",
    "Click the search button, locate `Terminal`, and open it\n",
    "![](img/9.jpg)"
   ]
  },
  {
   "cell_type": "markdown",
   "metadata": {
    "slideshow": {
     "slide_type": "slide"
    }
   },
   "source": [
    "### 10\n",
    "Type `wget https://github.com/claritylab/lucida/archive/master.zip` to download Lucida Github repo\n",
    "![](img/10.jpg)"
   ]
  },
  {
   "cell_type": "markdown",
   "metadata": {
    "slideshow": {
     "slide_type": "slide"
    }
   },
   "source": [
    "### 11\n",
    "Type `unzip master.zip` followed by `ls` to see a directory `lucida-master/`\n",
    "![](img/11.jpg)"
   ]
  },
  {
   "cell_type": "markdown",
   "metadata": {
    "slideshow": {
     "slide_type": "slide"
    }
   },
   "source": [
    "### 12\n",
    "Type `wget -qO- https://get.docker.com/ | sh` followed by `sudo usermod -aG docker $(whoami)` to install Docker. After that, log out and back in for this to take effect\n",
    "![](img/12.jpg)"
   ]
  },
  {
   "cell_type": "markdown",
   "metadata": {
    "slideshow": {
     "slide_type": "slide"
    }
   },
   "source": [
    "### 13\n",
    "Open the terminal again, and type `sudo start docker`\n",
    "![](img/13.jpg)"
   ]
  },
  {
   "cell_type": "markdown",
   "metadata": {
    "slideshow": {
     "slide_type": "slide"
    }
   },
   "source": [
    "### 14\n",
    "Type `cd lucida-master/tools/deploy/` followed by `sudo ./cluster_up_linux.sh` to start a Kubernetes cluster\n",
    "![](img/14.jpg)"
   ]
  },
  {
   "cell_type": "markdown",
   "metadata": {
    "slideshow": {
     "slide_type": "slide"
    }
   },
   "source": [
    "### 15\n",
    "Type `sudo chown -R $(whoami) /home/yba/.kube/config` to give yourself permission to a Kubernetes-related directory\n",
    "![](img/15.jpg)"
   ]
  },
  {
   "cell_type": "markdown",
   "metadata": {
    "slideshow": {
     "slide_type": "slide"
    }
   },
   "source": [
    "### 16\n",
    "Type `sudo ./start_services.sh` followed by `kubectl get pod` to start all the services and monitor the status. Kubernetes starts downloading the images, so please wait until the status of every pod becomes `running`\n",
    "![](img/16.jpg)"
   ]
  },
  {
   "cell_type": "markdown",
   "metadata": {
    "slideshow": {
     "slide_type": "slide"
    }
   },
   "source": [
    "### 17\n",
    "Visit `localhost:30000` in your browser\n",
    "![](img/17.jpg)"
   ]
  },
  {
   "cell_type": "markdown",
   "metadata": {
    "slideshow": {
     "slide_type": "slide"
    }
   },
   "source": [
    "### Congratulations!\n",
    "It's done. Lucida is runnin in your virtual machine.\n",
    "Follow [tutorial.pdf](../../tutorial.pdf) for demo."
   ]
  }
 ],
 "metadata": {
  "anaconda-cloud": {},
  "celltoolbar": "Slideshow",
  "kernelspec": {
   "display_name": "Python [Root]",
   "language": "python",
   "name": "Python [Root]"
  },
  "language_info": {
   "codemirror_mode": {
    "name": "ipython",
    "version": 3
   },
   "file_extension": ".py",
   "mimetype": "text/x-python",
   "name": "python",
   "nbconvert_exporter": "python",
   "pygments_lexer": "ipython3",
   "version": "3.5.2"
  }
 },
 "nbformat": 4,
 "nbformat_minor": 0
}
